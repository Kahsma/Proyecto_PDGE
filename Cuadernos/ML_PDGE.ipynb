{
 "cells": [
  {
   "cell_type": "code",
   "execution_count": 0,
   "metadata": {
    "application/vnd.databricks.v1+cell": {
     "cellMetadata": {
      "byteLimit": 2048000,
      "rowLimit": 10000
     },
     "inputWidgets": {},
     "nuid": "599ce029-9875-488a-9e72-e557664f7548",
     "showTitle": false,
     "tableResultSettingsMap": {},
     "title": ""
    }
   },
   "outputs": [],
   "source": [
    "# Importar librerías necesarias\n",
    "from pyspark.sql import SparkSession\n",
    "from pyspark.sql.functions import col\n",
    "from pyspark.ml.feature import VectorAssembler, StandardScaler\n",
    "from pyspark.ml.regression import LinearRegression\n",
    "from pyspark.ml.clustering import KMeans\n",
    "from pyspark.ml.evaluation import ClusteringEvaluator\n",
    "from pyspark.context import SparkContext\n",
    "from pyspark.sql import SparkSession\n",
    "from pyspark.sql.types import DoubleType, IntegerType\n",
    "from pyspark.sql import SQLContext\n",
    "from pyspark.sql.types import *\n",
    "from pyspark.sql.functions import input_file_name, mean, col, split, regexp_extract, when, lit, isnan, count, udf, isnan,avg\n",
    "from pyspark import SparkFiles\n",
    "import pandas as pd\n",
    "import matplotlib.pyplot as plt\n",
    "import seaborn as sns\n",
    "import time\n",
    "from sklearn.neighbors import KNeighborsRegressor\n",
    "from sklearn.metrics import r2_score"
   ]
  },
  {
   "cell_type": "code",
   "execution_count": 0,
   "metadata": {
    "application/vnd.databricks.v1+cell": {
     "cellMetadata": {
      "byteLimit": 2048000,
      "rowLimit": 10000
     },
     "inputWidgets": {},
     "nuid": "cf67ca81-0289-40c1-b485-70e2fab964a1",
     "showTitle": false,
     "tableResultSettingsMap": {},
     "title": ""
    }
   },
   "outputs": [],
   "source": [
    "# URL del dataset\n",
    "url = \"https://raw.githubusercontent.com/Kahsma/Proyecto_PDGE/refs/heads/main/Datos%20Limpios/ICFES_LIMPIO.csv\"\n",
    "\n",
    "spark.sparkContext.addFile(url)"
   ]
  },
  {
   "cell_type": "code",
   "execution_count": 0,
   "metadata": {
    "application/vnd.databricks.v1+cell": {
     "cellMetadata": {
      "byteLimit": 2048000,
      "rowLimit": 10000
     },
     "inputWidgets": {},
     "nuid": "09550e99-e373-4585-b46c-86f98fab12eb",
     "showTitle": false,
     "tableResultSettingsMap": {},
     "title": ""
    }
   },
   "outputs": [
    {
     "output_type": "stream",
     "name": "stdout",
     "output_type": "stream",
     "text": [
      "Correlación entre las variables: 0.7050074232042207\n"
     ]
    }
   ],
   "source": [
    "df = spark.read.csv(\"file://\"+SparkFiles.get(\"ICFES_LIMPIO.csv\"),header = True, inferSchema = True)\n",
    "# Seleccionar solo las columnas de interés\n",
    "df_selected = df.select(\"PERCENTIL_LECTURA_CRITICA\", \"PERCENTIL_MATEMATICAS\")\n",
    "# Verificar correlación entre las variables\n",
    "correlation_value = df_selected.corr(\"PERCENTIL_LECTURA_CRITICA\", \"PERCENTIL_MATEMATICAS\")\n",
    "print(f\"Correlación entre las variables: {correlation_value}\")"
   ]
  },
  {
   "cell_type": "code",
   "execution_count": 0,
   "metadata": {
    "application/vnd.databricks.v1+cell": {
     "cellMetadata": {
      "byteLimit": 2048000,
      "rowLimit": 10000
     },
     "inputWidgets": {},
     "nuid": "f454208c-2822-4f94-9985-72cfa983fd8f",
     "showTitle": false,
     "tableResultSettingsMap": {},
     "title": ""
    }
   },
   "outputs": [
    {
     "output_type": "stream",
     "name": "stdout",
     "output_type": "stream",
     "text": [
      "Ecuación de regresión lineal: y = 0.7041394974341076 * x + 14.885933790648508\nR^2 (Regresión Lineal): 0.4970354667730629\n"
     ]
    }
   ],
   "source": [
    "# Paso 1: Regresión Lineal usando Mínimos Cuadrados en PySpark\n",
    "# Crear vector de características\n",
    "assembler = VectorAssembler(inputCols=[\"PERCENTIL_LECTURA_CRITICA\"], outputCol=\"features\")\n",
    "data = assembler.transform(df_selected).select(\"features\", col(\"PERCENTIL_MATEMATICAS\").alias(\"label\"))\n",
    "\n",
    "# Entrenar el modelo de regresión lineal\n",
    "lr = LinearRegression(featuresCol=\"features\", labelCol=\"label\")\n",
    "lr_model = lr.fit(data)\n",
    "\n",
    "# Obtener coeficientes y R^2\n",
    "slope = lr_model.coefficients[0]\n",
    "intercept = lr_model.intercept\n",
    "r2_linear = lr_model.summary.r2\n",
    "\n",
    "print(f\"Ecuación de regresión lineal: y = {slope} * x + {intercept}\")\n",
    "print(f\"R^2 (Regresión Lineal): {r2_linear}\")\n"
   ]
  },
  {
   "cell_type": "code",
   "execution_count": 0,
   "metadata": {
    "application/vnd.databricks.v1+cell": {
     "cellMetadata": {
      "byteLimit": 2048000,
      "rowLimit": 10000
     },
     "inputWidgets": {},
     "nuid": "cfc8d463-ac83-4c19-8532-abadafb56e7b",
     "showTitle": false,
     "tableResultSettingsMap": {},
     "title": ""
    }
   },
   "outputs": [
    {
     "output_type": "stream",
     "name": "stdout",
     "output_type": "stream",
     "text": [
      "Modelo KNN(k=5): Aproximación de predicción con K-Vecinos\nR^2 (K-Vecinos): 0.3924522612861353\nTiempo de procesamiento KNN: 21.70335340499878 segundos\n"
     ]
    }
   ],
   "source": [
    "# Paso 2: Regresión con K-Vecinos (KNN) usando scikit-learn\n",
    "# Convertir DataFrame a Pandas para usar KNN\n",
    "df_pandas = df_selected.toPandas()\n",
    "X = df_pandas[['PERCENTIL_LECTURA_CRITICA']]\n",
    "y = df_pandas['PERCENTIL_MATEMATICAS']\n",
    "\n",
    "# Entrenar modelo KNN\n",
    "start_knn = time.time()\n",
    "\n",
    "knn = KNeighborsRegressor(n_neighbors=5)\n",
    "knn.fit(X, y)\n",
    "y_pred_knn = knn.predict(X)\n",
    "r2_knn = r2_score(y, y_pred_knn)\n",
    "\n",
    "end_knn = time.time()\n",
    "\n",
    "print(f\"Modelo KNN(k=5): Aproximación de predicción con K-Vecinos\")\n",
    "print(f\"R^2 (K-Vecinos): {r2_knn}\")\n",
    "print(f\"Tiempo de procesamiento KNN: {end_knn - start_knn} segundos\")\n"
   ]
  },
  {
   "cell_type": "code",
   "execution_count": 0,
   "metadata": {
    "application/vnd.databricks.v1+cell": {
     "cellMetadata": {
      "byteLimit": 2048000,
      "rowLimit": 10000
     },
     "inputWidgets": {},
     "nuid": "c87538ed-60cb-43eb-8348-c6bc6722e700",
     "showTitle": false,
     "tableResultSettingsMap": {},
     "title": ""
    }
   },
   "outputs": [
    {
     "output_type": "stream",
     "name": "stdout",
     "output_type": "stream",
     "text": [
      "Silhouette Score para K-Means: 0.624196969073189\nTiempo de procesamiento K-Means: 18.973287105560303 segundos\n"
     ]
    }
   ],
   "source": [
    "# Paso 3: Clustering No Supervisado con K-Means\n",
    "# Crear vector de características para K-Means\n",
    "start_kmeans = time.time()\n",
    "assembler_kmeans = VectorAssembler(inputCols=[\"PERCENTIL_LECTURA_CRITICA\", \"PERCENTIL_MATEMATICAS\"], outputCol=\"features\")\n",
    "data_kmeans = assembler_kmeans.transform(df_selected)\n",
    "\n",
    "# Entrenar modelo K-Means\n",
    "\n",
    "\n",
    "kmeans = KMeans(featuresCol=\"features\", k=4, seed=1)\n",
    "kmeans_model = kmeans.fit(data_kmeans)\n",
    "\n",
    "# Asignar clusters y calcular Silhouette Score\n",
    "clusters_df = kmeans_model.transform(data_kmeans)\n",
    "evaluator = ClusteringEvaluator(featuresCol=\"features\", predictionCol=\"prediction\", metricName=\"silhouette\")\n",
    "silhouette_score = evaluator.evaluate(clusters_df)\n",
    "\n",
    "end_kmeans = time.time()\n",
    "# Convertir resultados de K-Means a Pandas para visualización\n",
    "print(f\"Silhouette Score para K-Means: {silhouette_score}\")\n",
    "print(f\"Tiempo de procesamiento K-Means: {end_kmeans - start_kmeans} segundos\")"
   ]
  },
  {
   "cell_type": "code",
   "execution_count": 0,
   "metadata": {
    "application/vnd.databricks.v1+cell": {
     "cellMetadata": {
      "byteLimit": 2048000,
      "rowLimit": 10000
     },
     "inputWidgets": {},
     "nuid": "56a64939-82e7-4e8d-8a19-68b891f204d9",
     "showTitle": false,
     "tableResultSettingsMap": {},
     "title": ""
    }
   },
   "outputs": [
    {
     "output_type": "stream",
     "name": "stdout",
     "output_type": "stream",
     "text": [
      "\nTabla Comparativa de Modelos\n               Método                                       Ecuación  \\\n0    Regresión Lineal  y = 0.7041394974341076*x + 14.885933790648508   \n1           K-Vecinos                                Modelo KNN(k=5)   \n2  Clustering K-Means                                      No aplica   \n\n          R^2  Puntaje/Calidad  \n0    0.497035         0.497035  \n1    0.392452         0.392452  \n2  Silhouette         0.624197  \n"
     ]
    }
   ],
   "source": [
    "# # Subplot 1: Diagrama de dispersión y regresión lineal\n",
    "# plt.subplot(1, 3, 1)\n",
    "# sns.scatterplot(data=df_pandas, x=\"PERCENTIL_LECTURA_CRITICA\", y=\"PERCENTIL_MATEMATICAS\", color=\"blue\", label=\"Datos Originales\")\n",
    "# plt.plot(X, slope * X + intercept, color=\"red\", label=\"Regresión Lineal\")\n",
    "# plt.plot(X, y_pred_knn, color=\"green\", linestyle=\"--\", label=\"K-Vecinos\")\n",
    "# plt.title(\"Diagrama de Dispersión con Regresión Lineal y KNN\")\n",
    "# plt.xlabel(\"PERCENTIL_LECTURA_CRITICA\")\n",
    "# plt.ylabel(\"PERCENTIL_MATEMATICAS\")\n",
    "# plt.legend()\n",
    "\n",
    "# # Subplot 2: Diagrama de calor de correlación\n",
    "# plt.subplot(1, 3, 2)\n",
    "# correlation_matrix = df_pandas.corr()\n",
    "# sns.heatmap(correlation_matrix, annot=True, cmap=\"coolwarm\", vmin=-1, vmax=1)\n",
    "# plt.title(\"Diagrama de Calor de Correlación\")\n",
    "\n",
    "# # Subplot 3: Diagrama de dispersión con agrupamiento K-Means\n",
    "# plt.subplot(1, 3, 3)\n",
    "# sns.scatterplot(data=clusters_pandas, x=\"PERCENTIL_LECTURA_CRITICA\", y=\"PERCENTIL_MATEMATICAS\", hue=\"prediction\", palette=\"viridis\")\n",
    "# plt.title(\"Diagrama de Dispersión con Agrupamiento K-Means\")\n",
    "# plt.xlabel(\"PERCENTIL_LECTURA_CRITICA\")\n",
    "# plt.ylabel(\"PERCENTIL_MATEMATICAS\")\n",
    "# plt.legend(title=\"Cluster\")\n",
    "\n",
    "# # Mostrar todos los gráficos\n",
    "# plt.tight_layout()\n",
    "# plt.show()\n",
    "\n",
    "# Paso 5: Tabla Comparativa de Modelos\n",
    "comparison_df = pd.DataFrame({\n",
    "    \"Método\": [\"Regresión Lineal\", \"K-Vecinos\", \"Clustering K-Means\"],\n",
    "    \"Ecuación\": [f\"y = {slope}*x + {intercept}\", \"Modelo KNN(k=5)\", \"No aplica\"],\n",
    "    \"R^2\": [r2_linear, r2_knn, \"Silhouette\"],\n",
    "    \"Puntaje/Calidad\": [r2_linear, r2_knn, silhouette_score]\n",
    "})\n",
    "\n",
    "print(\"\\nTabla Comparativa de Modelos\")\n",
    "print(comparison_df)"
   ]
  },
  {
   "cell_type": "markdown",
   "metadata": {
    "application/vnd.databricks.v1+cell": {
     "cellMetadata": {},
     "inputWidgets": {},
     "nuid": "a72e01a8-c735-4a46-8236-41aa9be014e2",
     "showTitle": false,
     "tableResultSettingsMap": {},
     "title": ""
    }
   },
   "source": [
    "\n",
    "\n",
    "### 1. **Regresión Lineal**:\n",
    "   - **Ecuación del modelo**: La ecuación obtenida para la regresión lineal es \\( y = 0.704 \\cdot x + 14.886 \\). Esto sugiere que por cada incremento de 1 en el percentil de lectura crítica, el percentil de matemáticas se incrementa en promedio alrededor de 0.704.\n",
    "   - **R^2 (Coeficiente de determinación)**: El valor de \\( R^2 = 0.497 \\) indica que el modelo de regresión lineal explica aproximadamente el 49.7% de la variabilidad en los percentiles de matemáticas basándose en los percentiles de lectura crítica. Aunque el modelo capta una parte de la relación entre estas variables, el ajuste no es particularmente alto, lo que indica que otros factores no capturados por este modelo pueden influir en los resultados de matemáticas.\n",
    "\n",
    "### 2. **K-Vecinos (KNN)**:\n",
    "   - **Modelo**: El modelo KNN, configurado con \\( k = 5 \\) vecinos, tiene un **R^2 de 0.392**, lo que indica que explica el 39.2% de la variabilidad en los percentiles de matemáticas. Esto es menor que el ajuste de la regresión lineal.\n",
    "   - **Interpretación**: Aunque KNN es flexible y puede modelar relaciones no lineales, el valor de \\( R^2 \\) sugiere que la relación entre los percentiles no se ajusta bien a este enfoque en comparación con la regresión lineal. Esto puede ser porque KNN suele funcionar mejor con más datos y con relaciones complejas, mientras que aquí parece que la relación es algo más lineal.\n",
    "\n",
    "### 3. **Clustering K-Means**:\n",
    "   - **Índice de Silhouette**: El puntaje de Silhouette de **0.624** indica una separación razonable entre los clusters, ya que se considera que valores de Silhouette entre 0.5 y 1 reflejan una buena cohesión interna de los clusters y una buena separación entre ellos.\n",
    "   - **Interpretación**: La agrupación muestra que existen patrones o agrupaciones naturales en los datos que el modelo K-Means logra identificar. Esto sugiere que dentro de los datos de percentiles de lectura crítica y matemáticas, se pueden identificar grupos con características similares. Estos clusters podrían representar diferentes grupos de estudiantes en función de sus habilidades en ambas áreas, lo que podría ser útil para análisis adicionales o intervenciones educativas.\n",
    "\n",
    "### Conclusión General:\n",
    "- La **regresión lineal** tiene un ajuste moderado, con un \\( R^2 \\) mayor al de KNN, lo que indica una relación lineal moderada entre los percentiles de lectura crítica y de matemáticas. Sin embargo, el ajuste aún es bajo, por lo que esta relación lineal no explica completamente las variaciones en el rendimiento en matemáticas.\n",
    "- El **KNN** no ofrece un ajuste mejor que la regresión lineal, probablemente porque la relación no es tan compleja o no lineal como para que KNN aporte un mayor valor en este caso.\n",
    "- El **clustering K-Means** revela grupos de estudiantes con características similares en ambos percentiles, lo cual puede ser útil para segmentar y analizar subgrupos dentro de la población estudiada, sugiriendo que podrían existir diferentes niveles de rendimiento o perfiles de estudiantes.\n",
    "\n",
    "En resumen, el análisis sugiere que:\n",
    "1. Existe una relación lineal moderada entre los percentiles de lectura crítica y matemáticas, aunque hay otros factores que también pueden influir en el rendimiento de matemáticas.\n",
    "2. El clustering puede ser útil para identificar grupos de estudiantes y comprender mejor sus perfiles, lo que podría orientar intervenciones personalizadas."
   ]
  },
  {
   "cell_type": "code",
   "execution_count": 0,
   "metadata": {
    "application/vnd.databricks.v1+cell": {
     "cellMetadata": {
      "byteLimit": 2048000,
      "rowLimit": 10000
     },
     "inputWidgets": {},
     "nuid": "37fe57dc-f1f3-47cf-9b26-b8cd05f0c458",
     "showTitle": false,
     "tableResultSettingsMap": {},
     "title": ""
    }
   },
   "outputs": [
    {
     "output_type": "display_data",
     "data": {
      "image/png": "[encoded data removed]"
     },
     "metadata": {
      "application/vnd.databricks.v1+output": {
       "addedWidgets": {},
       "arguments": {},
       "data": "data:image/png;base64,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\n",
       "datasetInfos": [],
       "metadata": {},
       "removedWidgets": [],
       "type": "image"
      }
     },
     "output_type": "display_data"
    }
   ],
   "source": [
    "\n",
    "# Paso 7: Boxplot para verificar la distribución\n",
    "plt.figure(figsize=(10, 6))\n",
    "\n",
    "# Boxplot de ambas columnas\n",
    "sns.boxplot(data=df_pandas[['PERCENTIL_LECTURA_CRITICA', 'PERCENTIL_MATEMATICAS']], palette='Set2')\n",
    "plt.title(\"Boxplot de PERCENTIL_LECTURA_CRITICA y PERCENTIL_MATEMATICAS\")\n",
    "plt.ylabel(\"Valores de Percentil\")\n",
    "plt.show()\n"
   ]
  },
  {
   "cell_type": "markdown",
   "metadata": {
    "application/vnd.databricks.v1+cell": {
     "cellMetadata": {},
     "inputWidgets": {},
     "nuid": "60744592-9efa-4ef4-b25e-b128d131402b",
     "showTitle": false,
     "tableResultSettingsMap": {},
     "title": ""
    }
   },
   "source": [
    "# Justificacion Columanas\n",
    "Se hace uso de las columnas de PERCENTIL_LECTURA_CRITICA Y PERCENTIL_MATEMATICAS para ver si por ejemplo que sucede con la nota de uno con respectod a la otra. Esto para ver la relación qeu se tienen. Esto despues puede ser mirado desde municipio y con esta info se podria relacionar con los ddiferentes indices. este seria el paso inicial"
   ]
  },
  {
   "cell_type": "markdown",
   "metadata": {
    "application/vnd.databricks.v1+cell": {
     "cellMetadata": {},
     "inputWidgets": {},
     "nuid": "961d7fa0-31dc-4f57-a8a6-906fe43437af",
     "showTitle": false,
     "tableResultSettingsMap": {},
     "title": ""
    }
   },
   "source": [
    "# Modelos Escogidos\n",
    "\n",
    "La elección de los métodos KNN y K-Means en este análisis se justifica en función de sus propiedades y la naturaleza de los datos de los percentiles en lectura crítica y matemáticas. A continuación, se detallan las razones para utilizar cada uno de estos métodos:\n",
    "\n",
    "### 1. **K-Vecinos más Cercanos (KNN)**\n",
    "   - **Propósito**: KNN se utiliza aquí como un método de **regresión no lineal** para estimar la relación entre el percentil de lectura crítica y el percentil de matemáticas. Su función es predecir valores continuos (en este caso, percentiles de matemáticas) basándose en los valores de características de observaciones vecinas.\n",
    "   - **Flexibilidad**: A diferencia de la regresión lineal, que solo capta relaciones lineales, KNN permite modelar relaciones más complejas y potencialmente no lineales entre las variables. Aunque la relación entre estos percentiles parece lineal, KNN ayuda a verificar si hay alguna complejidad adicional que la regresión lineal no detecta.\n",
    "   - **Interpretación directa**: En el contexto de los datos educativos, KNN puede ofrecer una interpretación intuitiva: predice el rendimiento en matemáticas de un estudiante basándose en el rendimiento de sus \"vecinos\" con puntajes de lectura crítica similares. Esto es útil en contextos donde se espera que el rendimiento académico tenga cierta relación entre habilidades, sin asumir necesariamente una relación estrictamente lineal.\n",
    "   - **Comparación de modelos**: KNN permite evaluar si la relación entre los percentiles de lectura y matemáticas es verdaderamente lineal (en cuyo caso, la regresión lineal debería funcionar mejor) o si existen relaciones no lineales que KNN puede capturar mejor.\n",
    "\n",
    "### 2. **Clustering K-Means**\n",
    "   - **Propósito**: K-Means es un método de **agrupamiento no supervisado** que organiza los datos en grupos basados en similitudes. Aquí, K-Means se aplica para descubrir patrones o \"perfiles\" de estudiantes en función de sus puntajes en lectura crítica y matemáticas.\n",
    "   - **Identificación de subgrupos**: En el contexto educativo, los estudiantes pueden tener diferentes niveles de habilidades en lectura crítica y matemáticas. El uso de K-Means permite identificar estos subgrupos o perfiles de estudiantes, lo que puede ser útil para intervenciones específicas (por ejemplo, estudiantes fuertes en lectura pero con dificultades en matemáticas, o viceversa).\n",
    "   - **Mejora del análisis descriptivo**: La formación de clusters ayuda a interpretar mejor los datos al mostrar si existen agrupaciones naturales entre los estudiantes. Esto puede reflejar patrones de rendimiento que no son evidentes con una regresión.\n",
    "   - **Guía para políticas educativas**: Los resultados del clustering pueden sugerir grupos que requieran diferentes estrategias educativas o recursos. Por ejemplo, los clusters pueden señalar a los estudiantes con fortalezas y debilidades específicas, permitiendo la implementación de políticas o programas de apoyo más personalizados.\n",
    "\n",
    "### Justificación Global\n",
    "Al combinar **KNN** y **K-Means** en este análisis, se obtiene una perspectiva amplia de los datos:\n",
    "- **KNN** verifica la relación entre los percentiles como un modelo predictivo y evalúa si la relación es lineal o tiene una complejidad adicional.\n",
    "- **K-Means** descubre patrones internos en el conjunto de datos, revelando perfiles de estudiantes que podrían no ser captados en un modelo de predicción.\n",
    "\n",
    "En resumen, **KNN** y **K-Means** proporcionan herramientas complementarias: KNN explora la capacidad de predicción y relación entre variables, mientras que K-Means descubre agrupaciones y patrones internos que pueden ser útiles para políticas educativas o intervenciones específicas."
   ]
  },
  {
   "cell_type": "markdown",
   "metadata": {
    "application/vnd.databricks.v1+cell": {
     "cellMetadata": {},
     "inputWidgets": {},
     "nuid": "31d1efaa-a1de-48c6-9a4e-9313e248f461",
     "showTitle": false,
     "tableResultSettingsMap": {},
     "title": ""
    }
   },
   "source": [
    "# Justificación de Correlación, datos atipicos y Correlación\n",
    "Como se esta usando los percentiles estos ya estan normalziados y como se ve en el grafico de boxplot no  see estan tomando datos atipicos y se usa la regrecion lineal  de minimos cuadrados para la correlación"
   ]
  },
  {
   "cell_type": "markdown",
   "metadata": {
    "application/vnd.databricks.v1+cell": {
     "cellMetadata": {},
     "inputWidgets": {},
     "nuid": "23bc86cb-fdcf-41d5-8cf2-834e62fbcf37",
     "showTitle": false,
     "tableResultSettingsMap": {},
     "title": ""
    }
   },
   "source": [
    "# Comparación Databricks vs Cluster\n",
    "\n",
    "## Databricks\n",
    "\n",
    "KNN -> 21.70335340499878 segundos\n",
    "\n",
    "K-Means -> 18.973287105560303 segundos\n",
    "\n",
    "## Cluster del  grupo \n",
    "\n",
    "KNN -> 15.28296947479248 segundos\n",
    "\n",
    "K-Means -> 9.798679828643799 segundos\n",
    "\n",
    "## Nuestro  Cluster \n",
    "\n",
    "Cores in use: 16 Total, 16 Used\n",
    "Memory in use: 41.6 GiB Total, 4.0 GiB Used\n",
    "Resources in use:\n",
    "Applications: 1 Running, 75 Completed\n",
    "Drivers: 0 Running, 0 Completed\n",
    "Status: ALIVE\n",
    "\n",
    "\n",
    "\n"
   ]
  },
  {
   "cell_type": "code",
   "execution_count": 0,
   "metadata": {
    "application/vnd.databricks.v1+cell": {
     "cellMetadata": {},
     "inputWidgets": {},
     "nuid": "f8bda009-acb8-4e6d-99ab-598559c7bc68",
     "showTitle": false,
     "tableResultSettingsMap": {},
     "title": ""
    }
   },
   "outputs": [],
   "source": []
  }
 ],
 "metadata": {
  "application/vnd.databricks.v1+notebook": {
   "dashboards": [],
   "environmentMetadata": null,
   "language": "python",
   "notebookMetadata": {
    "pythonIndentUnit": 2
   },
   "notebookName": "ML_PDGE",
   "widgets": {}
  }
 },
 "nbformat": 4,
 "nbformat_minor": 0
}
