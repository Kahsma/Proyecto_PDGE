{
 "cells": [
  {
   "cell_type": "markdown",
   "metadata": {
    "application/vnd.databricks.v1+cell": {
     "cellMetadata": {
      "byteLimit": 2048000,
      "rowLimit": 10000
     },
     "inputWidgets": {},
     "nuid": "7b123b48-23d8-49d3-9a81-ac4210216e11",
     "showTitle": false,
     "tableResultSettingsMap": {},
     "title": ""
    }
   },
   "source": [
    "%md\n",
    "## PONTIFICIA UNIVERSIDAD JAVERIANA ##\n",
    "Autor: Andrés Felipe Vaca Lago\n",
    "\n",
    "Materia: Procesamieno de datos a gran escala\n",
    "\n",
    "Limpieza de datos Indice De Desarrollo municipal\n"
   ]
  },
  {
   "cell_type": "code",
   "execution_count": 0,
   "metadata": {
    "application/vnd.databricks.v1+cell": {
     "cellMetadata": {
      "byteLimit": 2048000,
      "rowLimit": 10000
     },
     "inputWidgets": {},
     "nuid": "d33a0238-92fe-4c7b-9c2b-5d60850a5d78",
     "showTitle": false,
     "tableResultSettingsMap": {},
     "title": ""
    }
   },
   "outputs": [
    {
     "output_type": "stream",
     "name": "stdout",
     "output_type": "stream",
     "text": [
      "+----------+--------------------+-------+--------------+--------------------+--------------------+-------+-----+-----+-----+-----+-----+-----+-----+------+--------+--------+--------+--------+-------+--------+--------+--------+----+-------+-------+-------+-------+-------+-------+-------+---------+--------+--------+--------+--------+--------+--------+--------+----------+-------------------------+----------+\n|depto_name|                mpio|codmpio|       cat_rur|      region_costero|          concatenar|costero| dm1 | dm2 | dm3 | dm4 | dm5 | dm6 | dm7 | idmc | ref_dm1| ref_dm2| ref_dm3| ref_dm4|ref_dm5| ref_dm6| ref_dm7|ref_idmc|PDET|d1_pnal|d2_pnal|d3_pnal|d4_pnal|d5_pnal|d6_pnal|d7_pnal|idmc_pnal|d1_pcost|d2_pcost|d3_pcost|d4_pcost|d5_pcost|d6_pcost|d7_pcost|idmc_pcost|Categoría ley 617 de 2000|Fronterizo|\n+----------+--------------------+-------+--------------+--------------------+--------------------+-------+-----+-----+-----+-----+-----+-----+-----+------+--------+--------+--------+--------+-------+--------+--------+--------+----+-------+-------+-------+-------+-------+-------+-------+---------+--------+--------+--------+--------+--------+--------+--------+----------+-------------------------+----------+\n|    NARIÑO|Santa Bárbara-NARIÑO|  52696|Rural disperso| Pacífico (Costeros)|Rural disperso-Pa...|      1|   47|    8|   47|   14|   44|   49|    1|    30|43.24675|65.24282|76.24016|52.15402|65.0743|92.78853|45.37073|54.48819|  Sí|     95|   1100|   1090|    954|    988|    989|   1092|     1101|       5|      45|      41|      26|      32|      42|      46|        46|                        6|         0|\n|    NARIÑO|        Magüi-NARIÑO|  52427|Rural disperso|Pacifico (no cost...|Rural disperso-Pa...|      0|   31|   12|   43|    3|   44|   65|   15|    31|43.24675|65.24282|76.24016|52.15402|65.0743|92.78853|45.37073|54.48819|  No|    411|   1096|   1097|   1091|    994|    752|    915|     1100|     388|    1054|    1053|    1047|     962|     726|     881|      1055|                        6|         0|\n|   BOLIVAR| Montecristo-BOLIVAR|  13458|Rural disperso|Caribe (no costeros)|Rural disperso-Ca...|      0|   28|   18|   56|    7|   27|   73|   10|    31|43.24675|65.24282|76.24016|52.15402|65.0743|92.78853|45.37073|54.48819|  No|    437|   1084|   1063|   1077|   1100|    599|   1020|     1099|     410|    1045|    1030|    1036|    1054|     581|     981|      1054|                        6|         0|\n|    NARIÑO|Olaya Herrera-NARIÑO|  52490|         Rural| Pacífico (Costeros)|Rural-Pacífico (C...|      1|   50|    4|   55|    7|   41|   50|   17|    32|45.97281|72.45549|77.11449|59.33411|65.8437|91.15898|45.77274|58.53149|  Sí|     77|   1101|   1066|   1078|   1049|    984|    886|     1098|       4|      46|      34|      42|      39|      41|      33|        45|                        6|         0|\n|     CHOCO|    Alto Baudó-CHOCO|  27025|Rural disperso|Pacifico (no cost...|Rural disperso-Pa...|      0|   24|   19|   39|    2|   54|   76|   11|    32|43.24675|65.24282|76.24016|52.15402|65.0743|92.78853|45.37073|54.48819|  No|    498|   1082|   1101|   1096|    684|    501|   1004|     1097|     467|    1043|    1055|    1051|     669|     486|     966|      1053|                        6|         0|\n|    NARIÑO|     Ricaurte-NARIÑO|  52612|Rural disperso|Pacifico (no cost...|Rural disperso-Pa...|      0|   18|   27|   59|   17|   40|   51|   12|    32|43.24675|65.24282|76.24016|52.15402|65.0743|92.78853|45.37073|54.48819|  No|    695|   1063|   1041|    881|   1052|    963|    977|     1096|     655|    1029|    1012|     859|    1013|     924|     941|      1052|                        6|         0|\n|      META|    La Macarena-META|  50350|Rural disperso|      Resto Colombia|Rural disperso-Re...|      0|   27|   13|   62|   14|   48|   37|   24|    32|43.24675|65.24282|76.24016|52.15402|65.0743|92.78853|45.37073|54.48819|  No|    451|   1094|   1010|    959|    903|   1077|    705|     1095|     424|    1052|     984|     932|     878|    1032|     678|      1051|                        6|         0|\n|     CAUCA|  Buenos Aires-CAUCA|  19110|         Rural|Pacifico (no cost...|Rural-Pacifico (n...|      0|   11|   52|   63|   19|   36|   47|    3|    33|45.97281|72.45549|77.11449|59.33411|65.8437|91.15898|45.77274|58.53149|  No|   1047|    826|    976|    844|   1081|   1008|   1090|     1094|    1001|     809|     953|     823|    1038|     964|    1045|      1050|                        6|         0|\n|     CHOCO|San José del Palm...|  27660|Rural disperso|Pacifico (no cost...|Rural disperso-Pa...|      0|   22|   33|   55|   13|   43|   36|   30|    33|43.24675|65.24282|76.24016|52.15402|65.0743|92.78853|45.37073|54.48819|  No|    531|   1037|   1064|    987|   1016|   1084|    566|     1093|     498|    1006|    1031|     958|     982|    1038|     543|      1049|                        6|         0|\n|    NARIÑO|        Payán-NARIÑO|  52621|Rural disperso|Pacifico (no cost...|Rural disperso-Pa...|      0|   50|   13|   54|    2|   43|   63|    8|    33|43.24675|65.24282|76.24016|52.15402|65.0743|92.78853|45.37073|54.48819|  No|     80|   1091|   1071|   1099|   1011|    795|   1048|     1092|      76|    1050|    1036|    1053|     977|     763|    1007|      1048|                        6|         0|\n|  GUAVIARE| Miraflores-GUAVIARE|  95200|Rural disperso|      Resto Colombia|Rural disperso-Re...|      0|   33|   22|   53|   14|   47|   39|   27|    34|43.24675|65.24282|76.24016|52.15402|65.0743|92.78853|45.37073|54.48819|  No|    390|   1075|   1074|    955|    917|   1066|    636|     1091|     368|    1036|    1037|     929|     891|    1021|     612|      1047|                        6|         0|\n|     CHOCO|  Medio Atrato-CHOCO|  27425|Rural disperso|Pacifico (no cost...|Rural disperso-Pa...|      0|   42|   18|   50|    1|   51|   69|    3|    34|43.24675|65.24282|76.24016|52.15402|65.0743|92.78853|45.37073|54.48819|  No|    151|   1083|   1083|   1101|    770|    681|   1085|     1090|     139|    1044|    1044|    1055|     752|     660|    1041|      1046|                        6|         0|\n|     CHOCO|Medio San Juan-CHOCO|  27450|         Rural|Pacifico (no cost...|Rural-Pacifico (n...|      0|   29|   35|   55|    2|   48|   53|   13|    34|45.97281|72.45549|77.11449|59.33411|65.8437|91.15898|45.77274|58.53149|  No|    430|   1024|   1067|   1095|    887|    936|    955|     1089|     404|     996|    1033|    1050|     864|     900|     921|      1045|                        6|         0|\n|      META|      Mapiripán-META|  50325|Rural disperso|      Resto Colombia|Rural disperso-Re...|      0|   27|   25|   57|   32|   48|   33|   18|    34|43.24675|65.24282|76.24016|52.15402|65.0743|92.78853|45.37073|54.48819|  No|    453|   1067|   1059|    565|    884|   1094|    872|     1088|     426|    1033|    1026|     553|     861|    1048|     840|      1044|                        6|         0|\n|    NARIÑO|      La Tola-NARIÑO|  52390|         Rural| Pacífico (Costeros)|Rural-Pacífico (C...|      1|   26|   22|   54|    2|   34|   63|   39|    34|45.97281|72.45549|77.11449|59.33411|65.8437|91.15898|45.77274|58.53149|  Sí|    462|   1074|   1068|   1098|   1088|    787|    338|     1087|      29|      39|      35|      46|      45|      31|      16|        44|                        6|         0|\n|    NARIÑO|    El Charco-NARIÑO|  52250|Rural disperso| Pacífico (Costeros)|Rural disperso-Pa...|      1|   47|   15|   58|   13|   43|   54|   12|    35|43.24675|65.24282|76.24016|52.15402|65.0743|92.78853|45.37073|54.48819|  Sí|     98|   1088|   1052|    979|   1009|    926|    989|     1086|       7|      41|      32|      29|      34|      36|      38|        43|                        6|         0|\n|     CAUCA|         López-CAUCA|  19418|Rural disperso| Pacífico (Costeros)|Rural disperso-Pa...|      1|   46|   11|   49|   14|   55|   61|    6|    35|43.24675|65.24282|76.24016|52.15402|65.0743|92.78853|45.37073|54.48819|  Sí|    106|   1098|   1087|    966|    597|    835|   1074|     1085|       9|      44|      40|      28|      11|      33|      44|        42|                        6|         0|\n| ANTIOQUIA|   Murindó-ANTIOQUIA|   5475|Rural disperso|      Resto Colombia|Rural disperso-Re...|      0|   34|   13|   47|   18|   39|   75|   19|    35|43.24675|65.24282|76.24016|52.15402|65.0743|92.78853|45.37073|54.48819|  No|    363|   1095|   1093|    876|   1065|    545|    837|     1084|     341|    1053|    1051|     854|    1023|     528|     805|      1043|                        6|         0|\n|   BOLIVAR|    Pinillos-BOLIVAR|  13549|Rural disperso|Caribe (no costeros)|Rural disperso-Ca...|      0|   13|   31|   66|   13|   35|   86|    0|    35|43.24675|65.24282|76.24016|52.15402|65.0743|92.78853|45.37073|54.48819|  No|    984|   1048|    856|    981|   1083|    202|   1100|     1083|     938|    1015|     840|     952|    1040|     194|    1054|      1042|                        6|         0|\n|     CHOCO|        Bojayá-CHOCO|  27099|Rural disperso|Pacifico (no cost...|Rural disperso-Pa...|      0|   48|   10|   51|   11|   47|   70|    8|    35|43.24675|65.24282|76.24016|52.15402|65.0743|92.78853|45.37073|54.48819|  No|     90|   1099|   1079|   1025|    925|    647|   1056|     1082|      86|    1055|    1040|     993|     899|     627|    1015|      1041|                        6|         0|\n+----------+--------------------+-------+--------------+--------------------+--------------------+-------+-----+-----+-----+-----+-----+-----+-----+------+--------+--------+--------+--------+-------+--------+--------+--------+----+-------+-------+-------+-------+-------+-------+-------+---------+--------+--------+--------+--------+--------+--------+--------+----------+-------------------------+----------+\nonly showing top 20 rows\n\n"
     ]
    }
   ],
   "source": [
    "import pandas as pd\n",
    "from pyspark.sql import SparkSession\n",
    "url = \"https://raw.githubusercontent.com/Kahsma/Proyecto_PDGE/refs/heads/main/Datos/Perfilsocioeco.csv\"\n",
    "\n",
    "# Cargar el archivo CSV en un DataFrame de Pandas\n",
    "pandas_df = pd.read_csv(url)\n",
    "\n",
    "# Convertir el DataFrame de Pandas a un DataFrame de Spark\n",
    "spark_df = spark.createDataFrame(pandas_df)\n",
    "\n",
    "# Mostrar las primeras filas para verificar\n",
    "spark_df.show()\n"
   ]
  },
  {
   "cell_type": "code",
   "execution_count": 0,
   "metadata": {
    "application/vnd.databricks.v1+cell": {
     "cellMetadata": {
      "byteLimit": 2048000,
      "rowLimit": 10000
     },
     "inputWidgets": {},
     "nuid": "1ab1af9c-1ce5-4470-9020-3ef96997e354",
     "showTitle": false,
     "tableResultSettingsMap": {},
     "title": ""
    }
   },
   "outputs": [
    {
     "output_type": "stream",
     "name": "stdout",
     "output_type": "stream",
     "text": [
      "Nombres de las columnas:\ndepto_name\nmpio\ncodmpio\ncat_rur\nregion_costero\nconcatenar\ncostero\ndm1\ndm2\ndm3\ndm4\ndm5\ndm6\ndm7\nidmc\nref_dm1\nref_dm2\nref_dm3\nref_dm4\nref_dm5\nref_dm6\nref_dm7\nref_idmc\nPDET\nd1_pnal\nd2_pnal\nd3_pnal\nd4_pnal\nd5_pnal\nd6_pnal\nd7_pnal\nidmc_pnal\nd1_pcost\nd2_pcost\nd3_pcost\nd4_pcost\nd5_pcost\nd6_pcost\nd7_pcost\nidmc_pcost\nCategoría_ley_617_de_2000\nFronterizo\n"
     ]
    }
   ],
   "source": [
    "# Mostrar los encabezados (nombres de columnas)\n",
    "print(\"Nombres de las columnas:\")\n",
    "for col in df1.columns:\n",
    "    print(col)\n"
   ]
  },
  {
   "cell_type": "code",
   "execution_count": 0,
   "metadata": {
    "application/vnd.databricks.v1+cell": {
     "cellMetadata": {
      "byteLimit": 2048000,
      "rowLimit": 10000
     },
     "inputWidgets": {},
     "nuid": "92830acd-bcb9-4052-8345-cd9a5e39c63a",
     "showTitle": false,
     "tableResultSettingsMap": {},
     "title": ""
    }
   },
   "outputs": [
    {
     "output_type": "stream",
     "name": "stdout",
     "output_type": "stream",
     "text": [
      "Nombres de las columnas actualizadas:\ndepto_name\nmpio\ncodmpio\ncat_rur\nregion_costero\nconcatenar\ncostero\ndm1\ndm2\ndm3\ndm4\ndm5\ndm6\ndm7\nidmc\nref_dm1\nref_dm2\nref_dm3\nref_dm4\nref_dm5\nref_dm6\nref_dm7\nref_idmc\nPDET\nd1_pnal\nd2_pnal\nd3_pnal\nd4_pnal\nd5_pnal\nd6_pnal\nd7_pnal\nidmc_pnal\nd1_pcost\nd2_pcost\nd3_pcost\nd4_pcost\nd5_pcost\nd6_pcost\nd7_pcost\nidmc_pcost\nCategoría_ley_617_de_2000\nFronterizo\n"
     ]
    }
   ],
   "source": [
    "# Eliminar espacios innecesarios de todos los nombres de columnas\n",
    "df1 = df1.toDF(*[col.strip().replace(\"  \", \" \").replace(\" \", \"_\") for col in df1.columns])\n",
    "\n",
    "# Mostrar los nombres de las columnas actualizadas\n",
    "print(\"Nombres de las columnas actualizadas:\")\n",
    "for col in df1.columns:\n",
    "    print(col)\n"
   ]
  },
  {
   "cell_type": "code",
   "execution_count": 0,
   "metadata": {
    "application/vnd.databricks.v1+cell": {
     "cellMetadata": {
      "byteLimit": 2048000,
      "rowLimit": 10000
     },
     "inputWidgets": {},
     "nuid": "13d96cf2-e25c-4c6c-8af3-3c88a8fa18df",
     "showTitle": false,
     "tableResultSettingsMap": {},
     "title": ""
    }
   },
   "outputs": [
    {
     "output_type": "stream",
     "name": "stdout",
     "output_type": "stream",
     "text": [
      "+-------+----+\n|codmpio|idmc|\n+-------+----+\n|  52696| 30 |\n|  52427| 31 |\n|  13458| 31 |\n|  52490| 32 |\n|  27025| 32 |\n|  52612| 32 |\n|  50350| 32 |\n|  19110| 33 |\n|  27660| 33 |\n|  52621| 33 |\n|  95200| 34 |\n|  27425| 34 |\n|  27450| 34 |\n|  50325| 34 |\n|  52390| 34 |\n|  52250| 35 |\n|  19418| 35 |\n|   5475| 35 |\n|  13549| 35 |\n|  27099| 35 |\n+-------+----+\nonly showing top 20 rows\n\n"
     ]
    }
   ],
   "source": [
    "# Seleccionar solo las columnas \"codmpio\" e \"idmc\" del DataFrame\n",
    "df_seleccionado = df1.select(\"codmpio\", \"idmc\")\n",
    "\n",
    "# Mostrar las primeras filas para verificar\n",
    "df_seleccionado.show()\n"
   ]
  },
  {
   "cell_type": "code",
   "execution_count": 0,
   "metadata": {
    "application/vnd.databricks.v1+cell": {
     "cellMetadata": {
      "byteLimit": 2048000,
      "rowLimit": 10000
     },
     "inputWidgets": {},
     "nuid": "886a0154-29b0-4ab5-b2b4-077aed6562cc",
     "showTitle": false,
     "tableResultSettingsMap": {},
     "title": ""
    }
   },
   "outputs": [
    {
     "output_type": "stream",
     "name": "stdout",
     "output_type": "stream",
     "text": [
      "+-------+----+\n|codmpio|idmc|\n+-------+----+\n|  52696| 30 |\n|  52427| 31 |\n|  13458| 31 |\n|  52490| 32 |\n|  27025| 32 |\n|  52612| 32 |\n|  50350| 32 |\n|  19110| 33 |\n|  27660| 33 |\n|  52621| 33 |\n|  95200| 34 |\n|  27425| 34 |\n|  27450| 34 |\n|  50325| 34 |\n|  52390| 34 |\n|  52250| 35 |\n|  19418| 35 |\n|   5475| 35 |\n|  13549| 35 |\n|  27099| 35 |\n+-------+----+\nonly showing top 20 rows\n\n"
     ]
    }
   ],
   "source": [
    "# Seleccionar solo las columnas \"codmpio\" e \"idmc\" del DataFrame\n",
    "df_seleccionado = df1.select(\"codmpio\", \"idmc\")\n",
    "\n",
    "# Eliminar filas con valores nulos en las columnas seleccionadas\n",
    "df_seleccionado = df_seleccionado.na.drop(subset=[\"codmpio\", \"idmc\"])\n",
    "\n",
    "# Mostrar las primeras filas para verificar\n",
    "df_seleccionado.show()\n"
   ]
  },
  {
   "cell_type": "code",
   "execution_count": 0,
   "metadata": {
    "application/vnd.databricks.v1+cell": {
     "cellMetadata": {
      "byteLimit": 2048000,
      "rowLimit": 10000
     },
     "inputWidgets": {},
     "nuid": "49558a24-a0ac-4709-9549-ede4862cb25e",
     "showTitle": false,
     "tableResultSettingsMap": {},
     "title": ""
    }
   },
   "outputs": [
    {
     "output_type": "stream",
     "name": "stdout",
     "output_type": "stream",
     "text": [
      "Número de filas: 1101\n"
     ]
    }
   ],
   "source": [
    "# Contar el número de filas en el DataFrame\n",
    "conteo_filas = df_seleccionado.count()\n",
    "\n",
    "# Mostrar el conteo de filas\n",
    "print(f\"Número de filas: {conteo_filas}\")\n"
   ]
  },
  {
   "cell_type": "code",
   "execution_count": 0,
   "metadata": {
    "application/vnd.databricks.v1+cell": {
     "cellMetadata": {
      "byteLimit": 2048000,
      "rowLimit": 10000
     },
     "inputWidgets": {},
     "nuid": "cb1846de-885f-48d7-8b10-e7b1a3efbb52",
     "showTitle": false,
     "tableResultSettingsMap": {},
     "title": ""
    }
   },
   "outputs": [
    {
     "output_type": "stream",
     "name": "stdout",
     "output_type": "stream",
     "text": [
      "Unexpected exception formatting exception. Falling back to standard exception\n"
     ]
    },
    {
     "output_type": "stream",
     "name": "stderr",
     "output_type": "stream",
     "text": [
      "Traceback (most recent call last):\n  File \"/databricks/python/lib/python3.9/site-packages/IPython/core/interactiveshell.py\", line 3378, in run_code\n    exec(code_obj, self.user_global_ns, self.user_ns)\n  File \"<command-2853552948494832>\", line 8, in <module>\n    pandas_df.to_excel(output_path, index=False)\n  File \"/databricks/python/lib/python3.9/site-packages/pandas/core/generic.py\", line 2345, in to_excel\n    formatter.write(\n  File \"/databricks/python/lib/python3.9/site-packages/pandas/io/formats/excel.py\", line 888, in write\n    writer = ExcelWriter(  # type: ignore[abstract]\n  File \"/databricks/python/lib/python3.9/site-packages/pandas/io/excel/_openpyxl.py\", line 49, in __init__\n    from openpyxl.workbook import Workbook\n  File \"/databricks/python_shell/dbruntime/PythonPackageImportsInstrumentation/__init__.py\", line 171, in import_patch\n    original_result = python_builtin_import(name, globals, locals, fromlist, level)\nModuleNotFoundError: No module named 'openpyxl'\n\nDuring handling of the above exception, another exception occurred:\n\nTraceback (most recent call last):\n  File \"/databricks/python/lib/python3.9/site-packages/IPython/core/interactiveshell.py\", line 1997, in showtraceback\n    stb = self.InteractiveTB.structured_traceback(\n  File \"/databricks/python/lib/python3.9/site-packages/IPython/core/ultratb.py\", line 1112, in structured_traceback\n    return FormattedTB.structured_traceback(\n  File \"/databricks/python/lib/python3.9/site-packages/IPython/core/ultratb.py\", line 1006, in structured_traceback\n    return VerboseTB.structured_traceback(\n  File \"/databricks/python/lib/python3.9/site-packages/IPython/core/ultratb.py\", line 859, in structured_traceback\n    formatted_exception = self.format_exception_as_a_whole(etype, evalue, etb, number_of_lines_of_context,\n  File \"/databricks/python/lib/python3.9/site-packages/IPython/core/ultratb.py\", line 812, in format_exception_as_a_whole\n    frames.append(self.format_record(r))\n  File \"/databricks/python/lib/python3.9/site-packages/IPython/core/ultratb.py\", line 730, in format_record\n    result += ''.join(_format_traceback_lines(frame_info.lines, Colors, self.has_colors, lvals))\n  File \"/databricks/python/lib/python3.9/site-packages/stack_data/utils.py\", line 145, in cached_property_wrapper\n    value = obj.__dict__[self.func.__name__] = self.func(obj)\n  File \"/databricks/python/lib/python3.9/site-packages/stack_data/core.py\", line 698, in lines\n    pieces = self.included_pieces\n  File \"/databricks/python/lib/python3.9/site-packages/stack_data/utils.py\", line 145, in cached_property_wrapper\n    value = obj.__dict__[self.func.__name__] = self.func(obj)\n  File \"/databricks/python/lib/python3.9/site-packages/stack_data/core.py\", line 649, in included_pieces\n    pos = scope_pieces.index(self.executing_piece)\n  File \"/databricks/python/lib/python3.9/site-packages/stack_data/utils.py\", line 145, in cached_property_wrapper\n    value = obj.__dict__[self.func.__name__] = self.func(obj)\n  File \"/databricks/python/lib/python3.9/site-packages/stack_data/core.py\", line 628, in executing_piece\n    return only(\n  File \"/databricks/python/lib/python3.9/site-packages/executing/executing.py\", line 164, in only\n    raise NotOneValueFound('Expected one value, found 0')\nexecuting.executing.NotOneValueFound: Expected one value, found 0\n"
     ]
    },
    {
     "output_type": "display_data",
     "data": {
      "text/plain": [
       ""
      ]
     },
     "metadata": {
      "application/vnd.databricks.v1+output": {
       "arguments": {},
       "data": "",
       "errorSummary": "<span class='ansi-red-fg'>ModuleNotFoundError</span>: No module named 'openpyxl'",
       "errorTraceType": "ansi",
       "metadata": {},
       "type": "ipynbError"
      }
     },
     "output_type": "display_data"
    }
   ],
   "source": [
    "# Convert the Spark DataFrame to a Pandas DataFrame\n",
    "pandas_df = df_selected.toPandas()\n",
    "\n",
    "# Define the output path for the Excel file\n",
    "output_path = '/dbfs/FileStore/shared_uploads/afelipe-vaca@javeriana.edu.co/filtered_data.xlsx'\n",
    "\n",
    "# Save the Pandas DataFrame to an Excel file\n",
    "pandas_df.to_excel(output_path, index=False)\n",
    "\n",
    "print(f\"Data exported to {output_path}\")\n"
   ]
  }
 ],
 "metadata": {
  "application/vnd.databricks.v1+notebook": {
   "dashboards": [],
   "environmentMetadata": null,
   "language": "python",
   "notebookMetadata": {
    "mostRecentlyExecutedCommandWithImplicitDF": {
     "commandId": 2853552948494833,
     "dataframes": [
      "_sqldf"
     ]
    },
    "pythonIndentUnit": 2
   },
   "notebookName": "Indice De Desarrollo municipal",
   "widgets": {}
  }
 },
 "nbformat": 4,
 "nbformat_minor": 0
}
