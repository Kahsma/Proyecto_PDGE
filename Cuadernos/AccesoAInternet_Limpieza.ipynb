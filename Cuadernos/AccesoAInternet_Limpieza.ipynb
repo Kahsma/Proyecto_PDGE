{
 "cells": [
  {
   "cell_type": "markdown",
   "id": "6f2eae33-49c2-418e-9a97-4354fa32d6b4",
   "metadata": {},
   "source": [
    "%md\n",
    "## PONTIFICIA UNIVERSIDAD JAVERIANA ##\n",
    "\n",
    "Materia: Procesamieno de datos a gran escala\n",
    "\n",
    "Limpieza de datos Nivel educativo por municipio"
   ]
  },
  {
   "cell_type": "code",
   "execution_count": 14,
   "id": "d98c8242-cc11-441c-be02-406b03d78e89",
   "metadata": {},
   "outputs": [],
   "source": [
    "import findspark\n",
    "findspark.init()\n",
    "\n",
    "import numpy as np\n",
    "import pandas as pd\n",
    "import seaborn as sns\n",
    "import matplotlib as plt\n",
    "%matplotlib inline\n",
    "from matplotlib import rcParams\n",
    "import squarify\n",
    "from sklearn.metrics import roc_curve, auc\n",
    "from pyspark.sql.window import Window\n",
    "from pyspark.sql.functions import row_number, col\n",
    "\n",
    "#Biblioteca PySpark\n",
    "import warnings\n",
    "import pyspark\n",
    "from pyspark.context import SparkContext\n",
    "from pyspark.sql import SparkSession\n",
    "\n",
    "from pyspark.sql import SQLContext\n",
    "from pyspark.sql.types import *\n",
    "from pyspark.sql.functions import input_file_name, mean, col, split, regexp_extract, when, lit, isnan, count, udf\n",
    "from pyspark import SparkFiles\n",
    "from pyspark.sql.types import *\n",
    "from pyspark.sql.functions import max, min\n",
    "#Bioblioteca ML para PySpark\n",
    "from pyspark.ml import Pipeline\n",
    "from pyspark.sql.functions import col, sum\n",
    "#Importar el SO\n",
    "from time import time\n",
    "from pyspark.conf import SparkConf\n",
    "import os"
   ]
  },
  {
   "cell_type": "code",
   "execution_count": 2,
   "id": "50b99249-5be3-47a5-80e4-dbb2e82025e8",
   "metadata": {},
   "outputs": [
    {
     "name": "stderr",
     "output_type": "stream",
     "text": [
      "Setting default log level to \"WARN\".\n",
      "To adjust logging level use sc.setLogLevel(newLevel). For SparkR, use setLogLevel(newLevel).\n",
      "24/11/10 23:24:04 WARN NativeCodeLoader: Unable to load native-hadoop library for your platform... using builtin-java classes where applicable\n",
      "24/11/10 23:24:04 WARN SparkConf: Note that spark.local.dir will be overridden by the value set by the cluster manager (via SPARK_LOCAL_DIRS in mesos/standalone/kubernetes and LOCAL_DIRS in YARN).\n"
     ]
    },
    {
     "data": {
      "text/html": [
       "\n",
       "            <div>\n",
       "                <p><b>SparkSession - in-memory</b></p>\n",
       "                \n",
       "        <div>\n",
       "            <p><b>SparkContext</b></p>\n",
       "\n",
       "            <p><a href=\"http://ING-PDGE01:4040\">Spark UI</a></p>\n",
       "\n",
       "            <dl>\n",
       "              <dt>Version</dt>\n",
       "                <dd><code>v3.5.2</code></dd>\n",
       "              <dt>Master</dt>\n",
       "                <dd><code>spark://10.43.103.125:7077</code></dd>\n",
       "              <dt>AppName</dt>\n",
       "                <dd><code>PrimerSparkGonzalez</code></dd>\n",
       "            </dl>\n",
       "        </div>\n",
       "        \n",
       "            </div>\n",
       "        "
      ],
      "text/plain": [
       "<pyspark.sql.session.SparkSession at 0x7f6aaab71130>"
      ]
     },
     "execution_count": 2,
     "metadata": {},
     "output_type": "execute_result"
    }
   ],
   "source": [
    "SPARK_MASTER_URL = os.getenv(\"SPARK_MASTER_URL\", \"spark://10.43.103.125:7077\")\n",
    "configura = SparkConf()\n",
    "configura.setMaster(SPARK_MASTER_URL)\n",
    "configura.set('spark.local.dir', '/almacen')\n",
    "configura.setAppName(\"PrimerSparkGonzalez\")\n",
    "spark = SparkSession.builder.config(conf=configura).getOrCreate()\n",
    "SQLContext(sparkContext=spark.sparkContext, sparkSession=spark)\n",
    "# spark = spark.sparkContext\n",
    "\n",
    "### Revisar si El servicio esta vivo\n",
    "spark"
   ]
  },
  {
   "cell_type": "code",
   "execution_count": 3,
   "id": "e9a54d90-eaad-4709-b4cd-f10e01d8e710",
   "metadata": {},
   "outputs": [],
   "source": [
    "url = \"https://raw.githubusercontent.com/Kahsma/Proyecto_PDGE/refs/heads/main/Datos/accesoainternet.csv\"\n",
    "\n",
    "spark.sparkContext.addFile(url)\n"
   ]
  },
  {
   "cell_type": "code",
   "execution_count": 4,
   "id": "ef6da1c8-79a0-45ca-9650-a005d94bc7ef",
   "metadata": {},
   "outputs": [
    {
     "name": "stderr",
     "output_type": "stream",
     "text": [
      "                                                                                \r"
     ]
    }
   ],
   "source": [
    "AcInternet = spark.read.csv(\"file://\" + SparkFiles.get(\"accesoainternet.csv\"), header = True , inferSchema = True )"
   ]
  },
  {
   "cell_type": "code",
   "execution_count": 5,
   "id": "b3f96694-0ad9-4d57-b26c-01007ec5ac99",
   "metadata": {},
   "outputs": [
    {
     "name": "stderr",
     "output_type": "stream",
     "text": [
      "[Stage 2:>                                                          (0 + 1) / 1]\r"
     ]
    },
    {
     "name": "stdout",
     "output_type": "stream",
     "text": [
      "+----+---------+----------------+------------+-------------+---------+-----------------------+--------------+------+\n",
      "| AÑO|TRIMESTRE|COD_DEPARTAMENTO|DEPARTAMENTO|COD_MUNICIPIO|MUNICIPIO|NoACCESOSFIJOSAINTERNET|POBLACIÓN DANE|INDICE|\n",
      "+----+---------+----------------+------------+-------------+---------+-----------------------+--------------+------+\n",
      "|2018|        3|              99|     VICHADA|        99773| CUMARIBO|                     75|         72691|  0,10|\n",
      "|2016|        2|              99|     VICHADA|        99773| CUMARIBO|                     27|         68305|  0,04|\n",
      "|2018|        2|              99|     VICHADA|        99773| CUMARIBO|                     75|         72691|  0,10|\n",
      "+----+---------+----------------+------------+-------------+---------+-----------------------+--------------+------+\n",
      "only showing top 3 rows\n",
      "\n"
     ]
    },
    {
     "name": "stderr",
     "output_type": "stream",
     "text": [
      "                                                                                \r"
     ]
    }
   ],
   "source": [
    "AcInternet.show(3)"
   ]
  },
  {
   "cell_type": "code",
   "execution_count": 6,
   "id": "009fd357-0bdc-4b05-b6a2-695ad90947c6",
   "metadata": {},
   "outputs": [
    {
     "name": "stderr",
     "output_type": "stream",
     "text": [
      "[Stage 3:>                                                          (0 + 1) / 1]\r"
     ]
    },
    {
     "name": "stdout",
     "output_type": "stream",
     "text": [
      "+-----------------------+------+----+-------------+\n",
      "|NoACCESOSFIJOSAINTERNET|INDICE| AÑO|COD_MUNICIPIO|\n",
      "+-----------------------+------+----+-------------+\n",
      "|                 772844| 29,78|2023|         5001|\n",
      "|                   1103|  5,18|2023|         5002|\n",
      "|                    151|  5,32|2023|         5004|\n",
      "+-----------------------+------+----+-------------+\n",
      "only showing top 3 rows\n",
      "\n"
     ]
    },
    {
     "name": "stderr",
     "output_type": "stream",
     "text": [
      "                                                                                \r"
     ]
    }
   ],
   "source": [
    "\n",
    "#Eliminar espacios innecesarios en los nombres de las columnas\n",
    "for nombre_columna in AcInternet.columns:\n",
    "    AcInternet = AcInternet.withColumnRenamed(nombre_columna, nombre_columna.strip())\n",
    "\n",
    "#Seleccionar las columnas especificadas\n",
    "columnas_a_mantener = [\"NoACCESOSFIJOSAINTERNET\", \"INDICE\", \"AÑO\", \"COD_MUNICIPIO\"]\n",
    "AcInternet = AcInternet.select(*columnas_a_mantener)\n",
    "\n",
    "#Eliminar filas con valores nulos en las columnas seleccionadas\n",
    "AcInternet = AcInternet.dropna(subset=columnas_a_mantener)\n",
    "\n",
    "#Definir una ventana para particionar por COD_MUNICIPIO, ordenando por AÑO (más reciente primero) e INDICE (más alto primero)\n",
    "window_spec = Window.partitionBy(\"COD_MUNICIPIO\").orderBy(col(\"AÑO\").desc(), col(\"INDICE\").desc())\n",
    "\n",
    "#Usar row_number para asignar un número de fila dentro de cada grupo de COD_MUNICIPIO\n",
    "AcInternet = AcInternet.withColumn(\"num_fila\", row_number().over(window_spec))\n",
    "\n",
    "#Filtrar para mantener solo las filas donde num_fila es 1 (año más reciente e índice más alto para cada COD_MUNICIPIO)\n",
    "AcInternet = AcInternet.filter(col(\"num_fila\") == 1).drop(\"num_fila\")\n",
    "\n",
    "# Mostrar el resultado para confirmar\n",
    "AcInternet.show(3)\n"
   ]
  },
  {
   "cell_type": "code",
   "execution_count": 7,
   "id": "add43808-25c0-413c-8a5e-e6fbbb3843bd",
   "metadata": {},
   "outputs": [
    {
     "name": "stdout",
     "output_type": "stream",
     "text": [
      "Total number of tuples: 1120\n"
     ]
    }
   ],
   "source": [
    "# Contar el número total de filas en el DataFrame\n",
    "total_tuplas = AcInternet.count()\n",
    "# Mostrar el resultado\n",
    "print(f\"Número total de tuplas: {total_tuplas}\")"
   ]
  },
  {
   "cell_type": "code",
   "execution_count": 8,
   "id": "3acbe52b-6962-4590-9809-3d9619c42736",
   "metadata": {},
   "outputs": [
    {
     "name": "stderr",
     "output_type": "stream",
     "text": [
      "[Stage 12:>                                                         (0 + 1) / 1]\r"
     ]
    },
    {
     "name": "stdout",
     "output_type": "stream",
     "text": [
      "+-----------------------+------+-------------+\n",
      "|NoACCESOSFIJOSAINTERNET|INDICE|COD_MUNICIPIO|\n",
      "+-----------------------+------+-------------+\n",
      "|                 772844| 29,78|         5001|\n",
      "|                   1103|  5,18|         5002|\n",
      "|                    151|  5,32|         5004|\n",
      "+-----------------------+------+-------------+\n",
      "only showing top 3 rows\n",
      "\n"
     ]
    },
    {
     "name": "stderr",
     "output_type": "stream",
     "text": [
      "                                                                                \r"
     ]
    }
   ],
   "source": [
    "# Eliminar la columna 'AÑO'\n",
    "AcInternet = AcInternet.drop(\"AÑO\")\n",
    "# Mostrar el resultado para confirmar que la columna fue eliminada\n",
    "AcInternet.show(3)"
   ]
  },
  {
   "cell_type": "code",
   "execution_count": 9,
   "id": "1b9bc850-1790-45bd-87e9-715fa3f4b35d",
   "metadata": {},
   "outputs": [
    {
     "name": "stderr",
     "output_type": "stream",
     "text": [
      "[Stage 15:>                                                         (0 + 1) / 1]\r"
     ]
    },
    {
     "name": "stdout",
     "output_type": "stream",
     "text": [
      "+--------------+-------------+\n",
      "|Highest_INDICE|Lowest_INDICE|\n",
      "+--------------+-------------+\n",
      "|          9,98|         0,02|\n",
      "+--------------+-------------+\n",
      "\n"
     ]
    },
    {
     "name": "stderr",
     "output_type": "stream",
     "text": [
      "                                                                                \r"
     ]
    }
   ],
   "source": [
    "# Calcular los valores más altos y más bajos de INDICE\n",
    "resultado = AcInternet.agg(\n",
    "    max(\"INDICE\").alias(\"Mayor_INDICE\"),\n",
    "    min(\"INDICE\").alias(\"Menor_INDICE\")\n",
    ")\n",
    "\n",
    "# Mostrar el resultado\n",
    "resultado.show()\n"
   ]
  },
  {
   "cell_type": "code",
   "execution_count": 12,
   "id": "2c6bf122-b3b4-483c-a98a-fe127bd08da2",
   "metadata": {},
   "outputs": [
    {
     "name": "stderr",
     "output_type": "stream",
     "text": [
      "                                                                                \r"
     ]
    }
   ],
   "source": [
    "# Definir el directorio de salida para el archivo CSV\n",
    "directorio_salida = \"Proyecto/\"\n",
    "\n",
    "# Escribir el DataFrame en un solo archivo CSV dentro del directorio\n",
    "AcInternet.coalesce(1).write.csv(directorio_salida, header=True, mode=\"overwrite\")\n"
   ]
  }
 ],
 "metadata": {
  "kernelspec": {
   "display_name": "Python 3 (ipykernel)",
   "language": "python",
   "name": "python3"
  },
  "language_info": {
   "codemirror_mode": {
    "name": "ipython",
    "version": 3
   },
   "file_extension": ".py",
   "mimetype": "text/x-python",
   "name": "python",
   "nbconvert_exporter": "python",
   "pygments_lexer": "ipython3",
   "version": "3.12.5"
  }
 },
 "nbformat": 4,
 "nbformat_minor": 5
}
