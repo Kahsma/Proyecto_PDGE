{
 "cells": [
  {
   "cell_type": "markdown",
   "id": "a7cb095b-911d-4e7e-bcff-d75375b96df4",
   "metadata": {},
   "source": [
    "%md\n",
    "## PONTIFICIA UNIVERSIDAD JAVERIANA ##\n",
    "\n",
    "Materia: Procesamieno de datos a gran escala\n",
    "\n",
    "Limpieza de datos Nivel educativo por municipio"
   ]
  },
  {
   "cell_type": "code",
   "execution_count": 1,
   "id": "3185d87e-3857-4d12-837d-5f1136343d67",
   "metadata": {},
   "outputs": [],
   "source": [
    "import findspark\n",
    "findspark.init()\n",
    "\n",
    "import numpy as np\n",
    "import pandas as pd\n",
    "import seaborn as sns\n",
    "import matplotlib as plt\n",
    "%matplotlib inline\n",
    "from matplotlib import rcParams\n",
    "import squarify\n",
    "from sklearn.metrics import roc_curve, auc\n",
    "\n",
    "#Biblioteca PySpark\n",
    "import warnings\n",
    "import pyspark\n",
    "from pyspark.context import SparkContext\n",
    "from pyspark.sql import SparkSession\n",
    "\n",
    "from pyspark.sql import SQLContext\n",
    "from pyspark.sql.types import *\n",
    "from pyspark.sql.functions import input_file_name, mean, col, split, regexp_extract, when, lit, isnan, count, udf\n",
    "from pyspark import SparkFiles\n",
    "from pyspark.sql.types import *\n",
    "\n",
    "#Bioblioteca ML para PySpark\n",
    "from pyspark.ml import Pipeline\n",
    "from pyspark.sql.functions import col, sum\n",
    "#Importar el SO\n",
    "from time import time\n",
    "from pyspark.conf import SparkConf\n",
    "import os"
   ]
  },
  {
   "cell_type": "markdown",
   "id": "15811003-44a5-4840-aa77-16eb8b0d6437",
   "metadata": {},
   "source": [
    "# Conexión a Spark"
   ]
  },
  {
   "cell_type": "code",
   "execution_count": 2,
   "id": "ccb4cc5d-6376-4152-a76e-99ba87a8449e",
   "metadata": {},
   "outputs": [
    {
     "name": "stderr",
     "output_type": "stream",
     "text": [
      "Setting default log level to \"WARN\".\n",
      "To adjust logging level use sc.setLogLevel(newLevel). For SparkR, use setLogLevel(newLevel).\n",
      "24/11/10 22:08:30 WARN NativeCodeLoader: Unable to load native-hadoop library for your platform... using builtin-java classes where applicable\n",
      "24/11/10 22:08:30 WARN SparkConf: Note that spark.local.dir will be overridden by the value set by the cluster manager (via SPARK_LOCAL_DIRS in mesos/standalone/kubernetes and LOCAL_DIRS in YARN).\n"
     ]
    },
    {
     "data": {
      "text/html": [
       "\n",
       "            <div>\n",
       "                <p><b>SparkSession - in-memory</b></p>\n",
       "                \n",
       "        <div>\n",
       "            <p><b>SparkContext</b></p>\n",
       "\n",
       "            <p><a href=\"http://ING-PDGE01:4040\">Spark UI</a></p>\n",
       "\n",
       "            <dl>\n",
       "              <dt>Version</dt>\n",
       "                <dd><code>v3.5.2</code></dd>\n",
       "              <dt>Master</dt>\n",
       "                <dd><code>spark://10.43.103.125:7077</code></dd>\n",
       "              <dt>AppName</dt>\n",
       "                <dd><code>PrimerSparkGonzalez</code></dd>\n",
       "            </dl>\n",
       "        </div>\n",
       "        \n",
       "            </div>\n",
       "        "
      ],
      "text/plain": [
       "<pyspark.sql.session.SparkSession at 0x7f5584d3f050>"
      ]
     },
     "execution_count": 2,
     "metadata": {},
     "output_type": "execute_result"
    }
   ],
   "source": [
    "SPARK_MASTER_URL = os.getenv(\"SPARK_MASTER_URL\", \"spark://10.43.103.125:7077\")\n",
    "configura = SparkConf()\n",
    "configura.setMaster(SPARK_MASTER_URL)\n",
    "configura.set('spark.local.dir', '/almacen')\n",
    "configura.setAppName(\"PrimerSparkGonzalez\")\n",
    "spark = SparkSession.builder.config(conf=configura).getOrCreate()\n",
    "SQLContext(sparkContext=spark.sparkContext, sparkSession=spark)\n",
    "# spark = spark.sparkContext\n",
    "\n",
    "### Revisar si El servicio esta vivo\n",
    "\n",
    "\n",
    "spark"
   ]
  },
  {
   "cell_type": "code",
   "execution_count": 3,
   "id": "86436a99-8c16-4e0b-9bac-708882d9dc61",
   "metadata": {},
   "outputs": [],
   "source": [
    "url = \"https://raw.githubusercontent.com/Kahsma/Proyecto_PDGE/refs/heads/main/Datos/Nivel%20de%20educacion.csv\"\n",
    "\n",
    "spark.sparkContext.addFile(url)\n"
   ]
  },
  {
   "cell_type": "code",
   "execution_count": 4,
   "id": "39bb3f39-49e7-494c-ac33-49bb167a6659",
   "metadata": {},
   "outputs": [
    {
     "name": "stderr",
     "output_type": "stream",
     "text": [
      "                                                                                \r"
     ]
    }
   ],
   "source": [
    "NivelEducación = spark.read.csv(\"file://\" + SparkFiles.get(\"Nivel de educacion.csv\"), header = True , inferSchema = True )"
   ]
  },
  {
   "cell_type": "code",
   "execution_count": 5,
   "id": "ba33cc95-3ad3-430b-b57d-4e0e493a398f",
   "metadata": {},
   "outputs": [
    {
     "name": "stderr",
     "output_type": "stream",
     "text": [
      "24/11/10 22:08:43 WARN SparkStringUtils: Truncated the string representation of a plan since it was too large. This behavior can be adjusted by setting 'spark.sql.debug.maxToStringFields'.\n"
     ]
    },
    {
     "name": "stdout",
     "output_type": "stream",
     "text": [
      "+----+----------------+-------------+-------------------+------------+----------+-------------+--------------+-----------------------+--------------+-------------------------+-----------------------+-------------------------+--------------------+---------------+--------------------------+------------------------+--------------------------+---------------------+------------------------+---------------------------+---------+--------------------+------------------+--------------------+---------------+----------+---------------------+-------------------+---------------------+----------------+-----------+----------------------+--------------------+----------------------+-----------------+----------+---------------------+-------------------+---------------------+----------------+\n",
      "| AÑO|CÓDIGO_MUNICIPIO|    MUNICIPIO|CÓDIGO_DEPARTAMENTO|DEPARTAMENTO|CÓDIGO_ETC|          ETC|POBLACIÓN_5_16|TASA_MATRICULACIÓN_5_16|COBERTURA_NETA|COBERTURA_NETA_TRANSICIÓN|COBERTURA_NETA_PRIMARIA|COBERTURA_NETA_SECUNDARIA|COBERTURA_NETA_MEDIA|COBERTURA_BRUTA|COBERTURA_BRUTA_TRANSICIÓN|COBERTURA_BRUTA_PRIMARIA|COBERTURA_BRUTA_SECUNDARIA|COBERTURA_BRUTA_MEDIA|TAMAÑO_PROMEDIO_DE_GRUPO|SEDES_CONECTADAS_A_INTERNET|DESERCIÓN|DESERCIÓN_TRANSICIÓN|DESERCIÓN_PRIMARIA|DESERCIÓN_SECUNDARIA|DESERCIÓN_MEDIA|APROBACIÓN|APROBACIÓN_TRANSICIÓN|APROBACIÓN_PRIMARIA|APROBACIÓN_SECUNDARIA|APROBACIÓN_MEDIA|REPROBACIÓN|REPROBACIÓN_TRANSICIÓN|REPROBACIÓN_PRIMARIA|REPROBACIÓN_SECUNDARIA|REPROBACIÓN_MEDIA|REPITENCIA|REPITENCIA_TRANSICIÓN|REPITENCIA_PRIMARIA|REPITENCIA_SECUNDARIA|REPITENCIA_MEDIA|\n",
      "+----+----------------+-------------+-------------------+------------+----------+-------------+--------------+-----------------------+--------------+-------------------------+-----------------------+-------------------------+--------------------+---------------+--------------------------+------------------------+--------------------------+---------------------+------------------------+---------------------------+---------+--------------------+------------------+--------------------+---------------+----------+---------------------+-------------------+---------------------+----------------+-----------+----------------------+--------------------+----------------------+-----------------+----------+---------------------+-------------------+---------------------+----------------+\n",
      "|2023|           99773|     Cumaribo|                 99|     Vichada|    3832.0|Vichada (ETC)|         25357|                  49.85|         49.85|                    38.19|                  57.31|                    16.07|                3.96|          56.18|                     55.67|                   87.14|                     36.16|                16.88|                    NULL|                       NULL|      7.5|                5.72|              7.52|                8.61|           5.13|     76.05|                 0.09|              71.13|                81.52|           89.74|      16.45|                  0.09|               21.35|                  9.87|             5.13|     21.27|                 0.52|              27.83|                11.87|            6.56|\n",
      "|2023|           99624|Santa Rosalía|                 99|     Vichada|    3832.0|Vichada (ETC)|          1159|                  83.87|         83.87|                    64.94|                  85.74|                    54.05|               27.75|           93.1|                    111.69|                  112.81|                     83.78|                 55.5|                    NULL|                       NULL|     4.91|                4.65|              4.03|                6.45|           4.72|     85.26|                  0.0|              88.28|                75.66|           92.45|       9.82|                   0.0|                7.69|                 17.89|             2.83|     13.99|                  0.0|              16.48|                17.01|            2.83|\n",
      "|2023|           99524| La Primavera|                 99|     Vichada|    3832.0|Vichada (ETC)|          2659|                  95.94|         95.94|                    73.37|                 102.36|                    60.71|               29.68|         105.45|                     108.7|                  135.63|                     94.33|                58.28|                    NULL|                       NULL|     6.44|                7.77|              4.88|                9.02|           5.17|     83.33|                  0.0|              81.66|                82.07|           90.04|      10.23|                   0.0|               13.46|                  8.91|              4.8|     13.98|                 1.55|              19.37|                 11.8|            1.48|\n",
      "+----+----------------+-------------+-------------------+------------+----------+-------------+--------------+-----------------------+--------------+-------------------------+-----------------------+-------------------------+--------------------+---------------+--------------------------+------------------------+--------------------------+---------------------+------------------------+---------------------------+---------+--------------------+------------------+--------------------+---------------+----------+---------------------+-------------------+---------------------+----------------+-----------+----------------------+--------------------+----------------------+-----------------+----------+---------------------+-------------------+---------------------+----------------+\n",
      "only showing top 3 rows\n",
      "\n"
     ]
    }
   ],
   "source": [
    "NivelEducación.show(3)"
   ]
  },
  {
   "cell_type": "code",
   "execution_count": 6,
   "id": "556c5d82-af48-49bd-9dcd-7b6bba2efa57",
   "metadata": {},
   "outputs": [
    {
     "name": "stderr",
     "output_type": "stream",
     "text": [
      "[Stage 3:>                                                          (0 + 1) / 1]\r"
     ]
    },
    {
     "name": "stdout",
     "output_type": "stream",
     "text": [
      "+---+----------------+---------+-------------------+------------+----------+---+--------------+-----------------------+--------------+-------------------------+-----------------------+-------------------------+--------------------+---------------+--------------------------+------------------------+--------------------------+---------------------+------------------------+---------------------------+---------+--------------------+------------------+--------------------+---------------+----------+---------------------+-------------------+---------------------+----------------+-----------+----------------------+--------------------+----------------------+-----------------+----------+---------------------+-------------------+---------------------+----------------+\n",
      "|AÑO|CÓDIGO_MUNICIPIO|MUNICIPIO|CÓDIGO_DEPARTAMENTO|DEPARTAMENTO|CÓDIGO_ETC|ETC|POBLACIÓN_5_16|TASA_MATRICULACIÓN_5_16|COBERTURA_NETA|COBERTURA_NETA_TRANSICIÓN|COBERTURA_NETA_PRIMARIA|COBERTURA_NETA_SECUNDARIA|COBERTURA_NETA_MEDIA|COBERTURA_BRUTA|COBERTURA_BRUTA_TRANSICIÓN|COBERTURA_BRUTA_PRIMARIA|COBERTURA_BRUTA_SECUNDARIA|COBERTURA_BRUTA_MEDIA|TAMAÑO_PROMEDIO_DE_GRUPO|SEDES_CONECTADAS_A_INTERNET|DESERCIÓN|DESERCIÓN_TRANSICIÓN|DESERCIÓN_PRIMARIA|DESERCIÓN_SECUNDARIA|DESERCIÓN_MEDIA|APROBACIÓN|APROBACIÓN_TRANSICIÓN|APROBACIÓN_PRIMARIA|APROBACIÓN_SECUNDARIA|APROBACIÓN_MEDIA|REPROBACIÓN|REPROBACIÓN_TRANSICIÓN|REPROBACIÓN_PRIMARIA|REPROBACIÓN_SECUNDARIA|REPROBACIÓN_MEDIA|REPITENCIA|REPITENCIA_TRANSICIÓN|REPITENCIA_PRIMARIA|REPITENCIA_SECUNDARIA|REPITENCIA_MEDIA|\n",
      "+---+----------------+---------+-------------------+------------+----------+---+--------------+-----------------------+--------------+-------------------------+-----------------------+-------------------------+--------------------+---------------+--------------------------+------------------------+--------------------------+---------------------+------------------------+---------------------------+---------+--------------------+------------------+--------------------+---------------+----------+---------------------+-------------------+---------------------+----------------+-----------+----------------------+--------------------+----------------------+-----------------+----------+---------------------+-------------------+---------------------+----------------+\n",
      "|  0|               0|        0|                  0|           0|         0|  0|             6|                    115|           111|                       52|                     91|                       94|                  93|             68|                        97|                      81|                        88|                  127|                    7013|                       6817|      142|                 903|               242|                 270|            734|        25|                   93|                 25|                   54|             101|         86|                    93|                  97|                   106|              145|       143|                  159|                148|                  152|             139|\n",
      "+---+----------------+---------+-------------------+------------+----------+---+--------------+-----------------------+--------------+-------------------------+-----------------------+-------------------------+--------------------+---------------+--------------------------+------------------------+--------------------------+---------------------+------------------------+---------------------------+---------+--------------------+------------------+--------------------+---------------+----------+---------------------+-------------------+---------------------+----------------+-----------+----------------------+--------------------+----------------------+-----------------+----------+---------------------+-------------------+---------------------+----------------+\n",
      "\n"
     ]
    },
    {
     "name": "stderr",
     "output_type": "stream",
     "text": [
      "                                                                                \r"
     ]
    }
   ],
   "source": [
    "# Calculate nulls for each column\n",
    "null_counts = NivelEducación.select([sum(col(c).isNull().cast(\"int\")).alias(c) for c in NivelEducación.columns])\n",
    "\n",
    "# Show the result\n",
    "null_counts.show()\n"
   ]
  },
  {
   "cell_type": "code",
   "execution_count": 7,
   "id": "7d1b1d17-f110-4ee9-b310-907d7c89f069",
   "metadata": {},
   "outputs": [
    {
     "name": "stdout",
     "output_type": "stream",
     "text": [
      "+----+----------------+-------------+-------------------+------------+----------+-------------+--------------+-----------------------+--------------+-------------------------+-----------------------+-------------------------+--------------------+---------------+--------------------------+------------------------+--------------------------+---------------------+------------------------+---------------------------+---------+--------------------+------------------+--------------------+---------------+----------+---------------------+-------------------+---------------------+----------------+-----------+----------------------+--------------------+----------------------+-----------------+----------+---------------------+-------------------+---------------------+----------------+\n",
      "| AÑO|CÓDIGO_MUNICIPIO|    MUNICIPIO|CÓDIGO_DEPARTAMENTO|DEPARTAMENTO|CÓDIGO_ETC|          ETC|POBLACIÓN_5_16|TASA_MATRICULACIÓN_5_16|COBERTURA_NETA|COBERTURA_NETA_TRANSICIÓN|COBERTURA_NETA_PRIMARIA|COBERTURA_NETA_SECUNDARIA|COBERTURA_NETA_MEDIA|COBERTURA_BRUTA|COBERTURA_BRUTA_TRANSICIÓN|COBERTURA_BRUTA_PRIMARIA|COBERTURA_BRUTA_SECUNDARIA|COBERTURA_BRUTA_MEDIA|TAMAÑO_PROMEDIO_DE_GRUPO|SEDES_CONECTADAS_A_INTERNET|DESERCIÓN|DESERCIÓN_TRANSICIÓN|DESERCIÓN_PRIMARIA|DESERCIÓN_SECUNDARIA|DESERCIÓN_MEDIA|APROBACIÓN|APROBACIÓN_TRANSICIÓN|APROBACIÓN_PRIMARIA|APROBACIÓN_SECUNDARIA|APROBACIÓN_MEDIA|REPROBACIÓN|REPROBACIÓN_TRANSICIÓN|REPROBACIÓN_PRIMARIA|REPROBACIÓN_SECUNDARIA|REPROBACIÓN_MEDIA|REPITENCIA|REPITENCIA_TRANSICIÓN|REPITENCIA_PRIMARIA|REPITENCIA_SECUNDARIA|REPITENCIA_MEDIA|\n",
      "+----+----------------+-------------+-------------------+------------+----------+-------------+--------------+-----------------------+--------------+-------------------------+-----------------------+-------------------------+--------------------+---------------+--------------------------+------------------------+--------------------------+---------------------+------------------------+---------------------------+---------+--------------------+------------------+--------------------+---------------+----------+---------------------+-------------------+---------------------+----------------+-----------+----------------------+--------------------+----------------------+-----------------+----------+---------------------+-------------------+---------------------+----------------+\n",
      "|2023|           99773|     Cumaribo|                 99|     Vichada|    3832.0|Vichada (ETC)|         25357|                  49.85|         49.85|                    38.19|                  57.31|                    16.07|                3.96|          56.18|                     55.67|                   87.14|                     36.16|                16.88|                    NULL|                       NULL|      7.5|                5.72|              7.52|                8.61|           5.13|     76.05|                 0.09|              71.13|                81.52|           89.74|      16.45|                  0.09|               21.35|                  9.87|             5.13|     21.27|                 0.52|              27.83|                11.87|            6.56|\n",
      "|2023|           99624|Santa Rosalía|                 99|     Vichada|    3832.0|Vichada (ETC)|          1159|                  83.87|         83.87|                    64.94|                  85.74|                    54.05|               27.75|           93.1|                    111.69|                  112.81|                     83.78|                 55.5|                    NULL|                       NULL|     4.91|                4.65|              4.03|                6.45|           4.72|     85.26|                  0.0|              88.28|                75.66|           92.45|       9.82|                   0.0|                7.69|                 17.89|             2.83|     13.99|                  0.0|              16.48|                17.01|            2.83|\n",
      "|2023|           99524| La Primavera|                 99|     Vichada|    3832.0|Vichada (ETC)|          2659|                  95.94|         95.94|                    73.37|                 102.36|                    60.71|               29.68|         105.45|                     108.7|                  135.63|                     94.33|                58.28|                    NULL|                       NULL|     6.44|                7.77|              4.88|                9.02|           5.17|     83.33|                  0.0|              81.66|                82.07|           90.04|      10.23|                   0.0|               13.46|                  8.91|              4.8|     13.98|                 1.55|              19.37|                 11.8|            1.48|\n",
      "+----+----------------+-------------+-------------------+------------+----------+-------------+--------------+-----------------------+--------------+-------------------------+-----------------------+-------------------------+--------------------+---------------+--------------------------+------------------------+--------------------------+---------------------+------------------------+---------------------------+---------+--------------------+------------------+--------------------+---------------+----------+---------------------+-------------------+---------------------+----------------+-----------+----------------------+--------------------+----------------------+-----------------+----------+---------------------+-------------------+---------------------+----------------+\n",
      "only showing top 3 rows\n",
      "\n"
     ]
    }
   ],
   "source": [
    "# Remove spaces in column names\n",
    "for col_name in NivelEducación.columns:\n",
    "    NivelEducación = NivelEducación.withColumnRenamed(col_name, col_name.strip())\n",
    "\n",
    "# Show the DataFrame to confirm changes\n",
    "NivelEducación.show(3)\n"
   ]
  },
  {
   "cell_type": "code",
   "execution_count": 8,
   "id": "8fb66f5d-2dc6-47db-8391-a9dbf3565317",
   "metadata": {},
   "outputs": [
    {
     "name": "stderr",
     "output_type": "stream",
     "text": [
      "[Stage 7:>                                                          (0 + 1) / 1]\r"
     ]
    },
    {
     "name": "stdout",
     "output_type": "stream",
     "text": [
      "+----------------+-----------------------+---------------+---------------------------+\n",
      "|CÓDIGO_MUNICIPIO|TASA_MATRICULACIÓN_5_16|COBERTURA_BRUTA|SEDES_CONECTADAS_A_INTERNET|\n",
      "+----------------+-----------------------+---------------+---------------------------+\n",
      "|           99773|                  49.85|          56.18|                       NULL|\n",
      "|           99624|                  83.87|           93.1|                       NULL|\n",
      "|           99524|                  95.94|         105.45|                       NULL|\n",
      "|           99001|                 144.52|          158.5|                       NULL|\n",
      "|           97889|                  47.95|          52.05|                       NULL|\n",
      "|           97777|                    0.0|              0|                       NULL|\n",
      "|           97666|                   22.6|          23.34|                       NULL|\n",
      "|           97511|                  54.29|          71.39|                       NULL|\n",
      "|           97161|                   51.3|          55.54|                       NULL|\n",
      "|           97001|                  59.57|          70.65|                       NULL|\n",
      "+----------------+-----------------------+---------------+---------------------------+\n",
      "only showing top 10 rows\n",
      "\n"
     ]
    },
    {
     "name": "stderr",
     "output_type": "stream",
     "text": [
      "                                                                                \r"
     ]
    }
   ],
   "source": [
    "# Select only the specified columns\n",
    "columns_to_keep = [\"CÓDIGO_MUNICIPIO\", \"TASA_MATRICULACIÓN_5_16\", \"COBERTURA_BRUTA\", \"SEDES_CONECTADAS_A_INTERNET\"]\n",
    "NivelEducación = NivelEducación.select(*columns_to_keep)\n",
    "\n",
    "# Show the result to confirm\n",
    "NivelEducación.show(10)\n"
   ]
  },
  {
   "cell_type": "code",
   "execution_count": 9,
   "id": "73e6ddd0-3526-4002-947b-2bf9e0d2c816",
   "metadata": {},
   "outputs": [
    {
     "name": "stdout",
     "output_type": "stream",
     "text": [
      "+----------------+-----------------------+---------------+---------------------------+\n",
      "|CÓDIGO_MUNICIPIO|TASA_MATRICULACIÓN_5_16|COBERTURA_BRUTA|SEDES_CONECTADAS_A_INTERNET|\n",
      "+----------------+-----------------------+---------------+---------------------------+\n",
      "|           85015|                   58.4|          65.23|                      11.11|\n",
      "|           85125|                   88.9|         106.08|                      16.67|\n",
      "|           85136|                   70.9|          76.63|                       12.5|\n",
      "|           85139|                  122.5|         139.05|                      29.03|\n",
      "|           85162|                   91.9|         108.29|                      84.62|\n",
      "|           85225|                   78.2|          89.06|                       9.52|\n",
      "|           85230|                  114.5|          132.5|                       20.0|\n",
      "|           85250|                  121.9|         145.07|                       9.33|\n",
      "|           85263|                  124.8|         142.05|                      13.04|\n",
      "|           85279|                   16.0|           24.8|                       9.09|\n",
      "+----------------+-----------------------+---------------+---------------------------+\n",
      "only showing top 10 rows\n",
      "\n"
     ]
    }
   ],
   "source": [
    "# Drop rows with any null values\n",
    "NivelEducación = NivelEducación.dropna()\n",
    "\n",
    "# Show the result to confirm\n",
    "NivelEducación.show(10)\n"
   ]
  },
  {
   "cell_type": "code",
   "execution_count": 10,
   "id": "699e6b9f-41c3-446e-acff-86cf8c0677aa",
   "metadata": {},
   "outputs": [
    {
     "name": "stderr",
     "output_type": "stream",
     "text": [
      "[Stage 9:>                                                          (0 + 1) / 1]\r"
     ]
    },
    {
     "name": "stdout",
     "output_type": "stream",
     "text": [
      "+----------------+-----------------------+---------------+---------------------------+\n",
      "|CÓDIGO_MUNICIPIO|TASA_MATRICULACIÓN_5_16|COBERTURA_BRUTA|SEDES_CONECTADAS_A_INTERNET|\n",
      "+----------------+-----------------------+---------------+---------------------------+\n",
      "|               0|                      0|              0|                          0|\n",
      "+----------------+-----------------------+---------------+---------------------------+\n",
      "\n"
     ]
    },
    {
     "name": "stderr",
     "output_type": "stream",
     "text": [
      "                                                                                \r"
     ]
    }
   ],
   "source": [
    "# Calculate nulls for each column\n",
    "null_counts = NivelEducación.select([sum(col(c).isNull().cast(\"int\")).alias(c) for c in NivelEducación.columns])\n",
    "\n",
    "# Show the result\n",
    "null_counts.show()\n"
   ]
  },
  {
   "cell_type": "code",
   "execution_count": 11,
   "id": "3573f425-ee35-4eda-bd51-bb4b3c39338a",
   "metadata": {},
   "outputs": [
    {
     "name": "stdout",
     "output_type": "stream",
     "text": [
      "Total number of records: 7667\n"
     ]
    }
   ],
   "source": [
    "# Get the total count of records\n",
    "total_records = NivelEducación.count()\n",
    "\n",
    "# Display the result\n",
    "print(f\"Total number of records: {total_records}\")\n"
   ]
  },
  {
   "cell_type": "code",
   "execution_count": 12,
   "id": "dfe70b39-ddde-4883-acbd-c7ac964df485",
   "metadata": {},
   "outputs": [
    {
     "name": "stdout",
     "output_type": "stream",
     "text": [
      "Number of duplicate records removed: 6549\n",
      "Total records after removing duplicates: 1118\n"
     ]
    }
   ],
   "source": [
    "# Count the total number of records before removing duplicates\n",
    "initial_count = NivelEducación.count()\n",
    "\n",
    "# Remove duplicates based on 'CÓDIGO_MUNICIPIO' and keep the first occurrence\n",
    "NivelEducación = NivelEducación.dropDuplicates(subset=[\"CÓDIGO_MUNICIPIO\"])\n",
    "\n",
    "# Count the total number of records after removing duplicates\n",
    "final_count = NivelEducación.count()\n",
    "\n",
    "# Calculate the number of duplicates removed\n",
    "duplicates_removed = initial_count - final_count\n",
    "\n",
    "# Display the result\n",
    "print(f\"Number of duplicate records removed: {duplicates_removed}\")\n",
    "print(f\"Total records after removing duplicates: {final_count}\")\n"
   ]
  },
  {
   "cell_type": "code",
   "execution_count": 13,
   "id": "82ea15ba-3aa3-4857-924b-efca6fd8384f",
   "metadata": {},
   "outputs": [
    {
     "name": "stderr",
     "output_type": "stream",
     "text": [
      "                                                                                \r"
     ]
    }
   ],
   "source": [
    "# Define the output path for the CSV file\n",
    "output_path = \"Proyecto/\"  # Replace with your desired directory path\n",
    "\n",
    "# Write the DataFrame to a CSV file\n",
    "NivelEducación.write.csv(output_path, header=True, mode=\"overwrite\")\n"
   ]
  }
 ],
 "metadata": {
  "kernelspec": {
   "display_name": "Python 3 (ipykernel)",
   "language": "python",
   "name": "python3"
  },
  "language_info": {
   "codemirror_mode": {
    "name": "ipython",
    "version": 3
   },
   "file_extension": ".py",
   "mimetype": "text/x-python",
   "name": "python",
   "nbconvert_exporter": "python",
   "pygments_lexer": "ipython3",
   "version": "3.12.5"
  }
 },
 "nbformat": 4,
 "nbformat_minor": 5
}
